{
 "cells": [
  {
   "cell_type": "markdown",
   "id": "8b31d776-854d-4069-8a69-ba65812f27a9",
   "metadata": {},
   "source": [
    "## Player data"
   ]
  },
  {
   "cell_type": "code",
   "execution_count": 1,
   "id": "c63ddca7-71b4-4a7f-85ab-6a11983cca41",
   "metadata": {},
   "outputs": [],
   "source": [
    "## for calling dataset\n",
    "import requests\n",
    "\n",
    "## parsing dataset\n",
    "from chicken_dinner.pubgapi import PUBG\n",
    "from chicken_dinner.constants import COLORS\n",
    "from chicken_dinner.constants import map_dimensions\n",
    "\n",
    "import json\n",
    "import numpy as np\n",
    "import pandas as pd\n",
    "\n",
    "from tqdm import tqdm\n",
    "from datetime import datetime, timedelta\n",
    "import glob\n",
    "import config"
   ]
  },
  {
   "cell_type": "code",
   "execution_count": 2,
   "id": "37d9beb6-5c1d-4f25-94b7-7c590ec90654",
   "metadata": {},
   "outputs": [],
   "source": [
    "api_key = config.api_key"
   ]
  },
  {
   "cell_type": "code",
   "execution_count": 71,
   "id": "a750d256-f63c-4f3a-a842-2d257864cfd7",
   "metadata": {},
   "outputs": [],
   "source": [
    "today = datetime.now() - timedelta(1)\n",
    "date = today.strftime('%Y-%m-%d')\n",
    "date = '2024-02-09'"
   ]
  },
  {
   "cell_type": "code",
   "execution_count": 72,
   "id": "599d7a34-33f4-4ffc-87a2-95d517d7fcbe",
   "metadata": {},
   "outputs": [
    {
     "data": {
      "text/plain": [
       "['data/2024-02-09/2024-02-09_smp_data.json']"
      ]
     },
     "execution_count": 72,
     "metadata": {},
     "output_type": "execute_result"
    }
   ],
   "source": [
    "# flist = glob.glob(f'data/{today}*_smp_data.json')\n",
    "flist = glob.glob(f'data/{date}/*_smp_data.json')\n",
    "flist"
   ]
  },
  {
   "cell_type": "code",
   "execution_count": 73,
   "id": "09f3ac25-2e1d-4611-8b9b-a61b2387a2a0",
   "metadata": {},
   "outputs": [
    {
     "data": {
      "text/plain": [
       "'data/2024-02-09/2024-02-09_smp_data.json'"
      ]
     },
     "execution_count": 73,
     "metadata": {},
     "output_type": "execute_result"
    }
   ],
   "source": [
    "## save data into json file\n",
    "sample_file_path = flist[0]\n",
    "sample_file_path"
   ]
  },
  {
   "cell_type": "code",
   "execution_count": 74,
   "id": "d4c1cbda-aa33-4b32-b574-852fadb7bda7",
   "metadata": {},
   "outputs": [],
   "source": [
    "with open(sample_file_path, 'r') as f:\n",
    "    sample_data = json.load(f)"
   ]
  },
  {
   "cell_type": "code",
   "execution_count": 75,
   "id": "b6863fa4-9ede-413e-8fb9-bf39e64fa991",
   "metadata": {},
   "outputs": [
    {
     "data": {
      "text/plain": [
       "(171,\n",
       " [{'type': 'match', 'id': '8cc6c687-657b-48a0-8282-9e6b7e16d2ce'},\n",
       "  {'type': 'match', 'id': 'ef645db7-a848-416c-89de-85f272b993df'},\n",
       "  {'type': 'match', 'id': 'd892a132-a581-40a6-8354-290f808a3595'},\n",
       "  {'type': 'match', 'id': '092188b5-ddf7-4c87-9b99-e929c36e9769'},\n",
       "  {'type': 'match', 'id': 'c37c341f-d968-4374-804c-7c2cdd3a62a6'}])"
      ]
     },
     "execution_count": 75,
     "metadata": {},
     "output_type": "execute_result"
    }
   ],
   "source": [
    "match_list = sample_data['data']['relationships']['matches']['data']\n",
    "len(match_list), match_list[:5]"
   ]
  },
  {
   "cell_type": "markdown",
   "id": "ede6e547-2d4c-4034-a083-4cd660b359c4",
   "metadata": {
    "jp-MarkdownHeadingCollapsed": true
   },
   "source": [
    "#### get player data"
   ]
  },
  {
   "cell_type": "code",
   "execution_count": 13,
   "id": "1e48a287-0161-402e-8116-d40609c64534",
   "metadata": {},
   "outputs": [],
   "source": [
    "features = ['player_name', 'player_id', 'match_id', 'map', 'rank',\n",
    "            'player_position',   ## 'battle_time', 'battle_loc', \n",
    "            'death_loc', 'survival_time']"
   ]
  },
  {
   "cell_type": "code",
   "execution_count": 14,
   "id": "4556b8d6-52c1-46cd-98f3-9bdcbf043dfc",
   "metadata": {},
   "outputs": [
    {
     "data": {
      "text/html": [
       "<div>\n",
       "<style scoped>\n",
       "    .dataframe tbody tr th:only-of-type {\n",
       "        vertical-align: middle;\n",
       "    }\n",
       "\n",
       "    .dataframe tbody tr th {\n",
       "        vertical-align: top;\n",
       "    }\n",
       "\n",
       "    .dataframe thead th {\n",
       "        text-align: right;\n",
       "    }\n",
       "</style>\n",
       "<table border=\"1\" class=\"dataframe\">\n",
       "  <thead>\n",
       "    <tr style=\"text-align: right;\">\n",
       "      <th></th>\n",
       "      <th>player_name</th>\n",
       "      <th>player_id</th>\n",
       "      <th>match_id</th>\n",
       "      <th>map</th>\n",
       "      <th>rank</th>\n",
       "      <th>player_position</th>\n",
       "      <th>death_loc</th>\n",
       "      <th>survival_time</th>\n",
       "    </tr>\n",
       "  </thead>\n",
       "  <tbody>\n",
       "  </tbody>\n",
       "</table>\n",
       "</div>"
      ],
      "text/plain": [
       "Empty DataFrame\n",
       "Columns: [player_name, player_id, match_id, map, rank, player_position, death_loc, survival_time]\n",
       "Index: []"
      ]
     },
     "execution_count": 14,
     "metadata": {},
     "output_type": "execute_result"
    }
   ],
   "source": [
    "player_df = pd.DataFrame(columns = features)\n",
    "player_df"
   ]
  },
  {
   "cell_type": "code",
   "execution_count": 10,
   "id": "e716a978-96f2-457a-afa6-3811ad51ea6c",
   "metadata": {},
   "outputs": [],
   "source": [
    "pubg = PUBG(api_key, shard = 'kakao')"
   ]
  },
  {
   "cell_type": "code",
   "execution_count": null,
   "id": "0cf0b768-cd32-4d6c-ae7f-24699d250d63",
   "metadata": {},
   "outputs": [
    {
     "name": "stderr",
     "output_type": "stream",
     "text": [
      "0it [00:00, ?it/s]"
     ]
    },
    {
     "name": "stdout",
     "output_type": "stream",
     "text": [
      "(0, 8)\r"
     ]
    },
    {
     "name": "stderr",
     "output_type": "stream",
     "text": [
      "1it [01:33, 93.20s/it]"
     ]
    },
    {
     "name": "stdout",
     "output_type": "stream",
     "text": [
      "(5, 8)\r"
     ]
    }
   ],
   "source": [
    "error_list = []\n",
    "\n",
    "for i, match in tqdm(enumerate(match_list)):\n",
    "    print(player_df.shape, end='\\r')\n",
    "    try:\n",
    "        # pubg = PUBG(api_key, shard = 'kakao')\n",
    "        match_id = match['id']\n",
    "        current_match = pubg.match(match_id)\n",
    "        telemetry = current_match.get_telemetry()\n",
    "        map = telemetry.map_name()\n",
    "\n",
    "        player_list = telemetry.player_ids()\n",
    "        \n",
    "        for ply in player_list:\n",
    "            try:                \n",
    "                player_name = pubg.players_from_ids(ply).names[0]\n",
    "                player_id = ply\n",
    "                player_position = telemetry.player_positions()[player_name]\n",
    "\n",
    "                rank = [x for x in telemetry.rankings().keys() if player_name in telemetry.rankings()[x]][0]\n",
    "                \n",
    "                # battle_time = None\n",
    "                # battle_loc = [None, None]\n",
    "                death_loc = [None, None]\n",
    "                survival_time = None\n",
    "\n",
    "                player_df.loc[len(player_df)] = [player_name, player_id, match_id, map,\n",
    "                                                 rank, player_position, death_loc,\n",
    "                                                 survival_time]\n",
    "            except:\n",
    "                # print(ply)\n",
    "                error_list.append([match_id, ply])\n",
    "    except:\n",
    "        print(match)\n",
    "        error_list.append(match)\n",
    "        "
   ]
  },
  {
   "cell_type": "code",
   "execution_count": null,
   "id": "4012cb8e-84cc-4393-9b38-f6af2df980f3",
   "metadata": {},
   "outputs": [],
   "source": [
    "pubg = PUBG(api_key, shard = 'kakao')"
   ]
  },
  {
   "cell_type": "code",
   "execution_count": null,
   "id": "84567439-2881-4f15-bbab-cf46d0ce440e",
   "metadata": {},
   "outputs": [],
   "source": [
    "for error in error_list:\n",
    "    try:\n",
    "        match_id = error[0]\n",
    "        current_match = pubg.match(match_id)\n",
    "        telemetry = current_match.get_telemetry()\n",
    "        map = telemetry.map_name()\n",
    "        \n",
    "        player_id = error[1]\n",
    "        player_name = str(pubg.players_from_ids(player_id).names[0])\n",
    "        player_position = telemetry.player_positions()[player_name]\n",
    "    \n",
    "        rank = [x for x in telemetry.rankings().keys() if player_name in telemetry.rankings()[x]][0]\n",
    "        \n",
    "        # battle_time = None\n",
    "        # battle_loc = [None, None]\n",
    "        death_loc = [None, None]\n",
    "        survival_time = None\n",
    "    \n",
    "        player_df.loc[len(player_df)] = [player_name, player_id, match_id, map,\n",
    "                                         rank, player_position, death_loc,\n",
    "                                         survival_time]\n",
    "    except:\n",
    "        # print(error)\n",
    "        continue"
   ]
  },
  {
   "cell_type": "code",
   "execution_count": null,
   "id": "054c8f6a-3c3c-4eb2-bd71-963189019fef",
   "metadata": {
    "scrolled": true
   },
   "outputs": [],
   "source": [
    "print(player_df.shape)\n",
    "player_df.tail()"
   ]
  },
  {
   "cell_type": "code",
   "execution_count": null,
   "id": "653a586a-be00-483c-94df-13778ec60cce",
   "metadata": {},
   "outputs": [],
   "source": [
    "for i, match in tqdm(enumerate(match_list)):\n",
    "    # try:\n",
    "    pubg = PUBG(api_key, shard = 'kakao')\n",
    "    match_id = match['id']\n",
    "    current_match = pubg.match(match_id)\n",
    "    telemetry = current_match.get_telemetry()\n",
    "    log_list = telemetry.filter_by(event_type = 'log_player_kill_v2')\n",
    "    \n",
    "    startTime = pd.to_timedelta(telemetry.started()[telemetry.started().find('T')+1:-1])\n",
    "\n",
    "    for log in log_list:\n",
    "        name = log['victim']['name']\n",
    "        loc = [log['victim']['location']['x'], log['victim']['location']['y']]\n",
    "        endTime = log.timestamp\n",
    "        endTime = (pd.to_timedelta(endTime[endTime.find('T')+1:-1]) - startTime).total_seconds()\n",
    "        try:\n",
    "            ply_idx = player_df['player_name'].tolist().index(name)\n",
    "    \n",
    "            player_df.at[ply_idx, 'death_loc'] = loc\n",
    "            player_df.at[ply_idx, 'survival_time'] = endTime\n",
    "        except:\n",
    "            continue\n",
    "    # except:\n",
    "    #     print(match['id'])"
   ]
  },
  {
   "cell_type": "code",
   "execution_count": null,
   "id": "5f0def3d-3822-45d9-909b-01dbaeec02bb",
   "metadata": {},
   "outputs": [],
   "source": [
    "print(player_df.shape)\n",
    "player_df.tail()"
   ]
  },
  {
   "cell_type": "markdown",
   "id": "94ea10a1-0aac-4109-b891-308190f7ec73",
   "metadata": {
    "jp-MarkdownHeadingCollapsed": true
   },
   "source": [
    "#### save the player log data"
   ]
  },
  {
   "cell_type": "code",
   "execution_count": null,
   "id": "66b2e5a7-ff89-4a2f-8ccd-39795799f346",
   "metadata": {},
   "outputs": [],
   "source": [
    "json_data = player_df.to_json(orient='records')"
   ]
  },
  {
   "cell_type": "code",
   "execution_count": null,
   "id": "44c44656-1c52-43f4-ad53-590fa4039b96",
   "metadata": {},
   "outputs": [],
   "source": [
    "json_file_name = f'data/{date}/{date}_ply_data.json'\n",
    "json_file_name"
   ]
  },
  {
   "cell_type": "code",
   "execution_count": null,
   "id": "7fcff3ee-995d-496b-9167-6c40f2cdbd5d",
   "metadata": {},
   "outputs": [],
   "source": [
    "with open(json_file_name, 'w') as f:\n",
    "    json.dump(json_data, f)"
   ]
  },
  {
   "cell_type": "markdown",
   "id": "2cec83c8-946c-438f-83a4-1e521d970f51",
   "metadata": {},
   "source": [
    "#### player battle log data (교전 데이터)"
   ]
  },
  {
   "cell_type": "code",
   "execution_count": 76,
   "id": "a68dcaec-6b0d-44a5-9f79-d37a6f763ee1",
   "metadata": {},
   "outputs": [],
   "source": [
    "features_b = ['player_name', 'player_id', 'match_id', 'map', \n",
    "            'battle_time', 'battle_loc', 'phase']"
   ]
  },
  {
   "cell_type": "code",
   "execution_count": 77,
   "id": "f7f19d29-b6e5-4483-ae9f-66893b7cc674",
   "metadata": {},
   "outputs": [
    {
     "data": {
      "text/html": [
       "<div>\n",
       "<style scoped>\n",
       "    .dataframe tbody tr th:only-of-type {\n",
       "        vertical-align: middle;\n",
       "    }\n",
       "\n",
       "    .dataframe tbody tr th {\n",
       "        vertical-align: top;\n",
       "    }\n",
       "\n",
       "    .dataframe thead th {\n",
       "        text-align: right;\n",
       "    }\n",
       "</style>\n",
       "<table border=\"1\" class=\"dataframe\">\n",
       "  <thead>\n",
       "    <tr style=\"text-align: right;\">\n",
       "      <th></th>\n",
       "      <th>player_name</th>\n",
       "      <th>player_id</th>\n",
       "      <th>match_id</th>\n",
       "      <th>map</th>\n",
       "      <th>battle_time</th>\n",
       "      <th>battle_loc</th>\n",
       "      <th>phase</th>\n",
       "    </tr>\n",
       "  </thead>\n",
       "  <tbody>\n",
       "  </tbody>\n",
       "</table>\n",
       "</div>"
      ],
      "text/plain": [
       "Empty DataFrame\n",
       "Columns: [player_name, player_id, match_id, map, battle_time, battle_loc, phase]\n",
       "Index: []"
      ]
     },
     "execution_count": 77,
     "metadata": {},
     "output_type": "execute_result"
    }
   ],
   "source": [
    "battle_df = pd.DataFrame(columns = features_b)\n",
    "battle_df"
   ]
  },
  {
   "cell_type": "code",
   "execution_count": 78,
   "id": "2ae7b8f0-1e7d-474a-8e0e-c8d3e363e9d1",
   "metadata": {},
   "outputs": [],
   "source": [
    "def get_phase(x):\n",
    "    return sum([phase <= x for phase in phase_time]) +1"
   ]
  },
  {
   "cell_type": "code",
   "execution_count": 79,
   "id": "450bc2f9-760e-42ea-9666-13ce4aa834f3",
   "metadata": {},
   "outputs": [
    {
     "name": "stderr",
     "output_type": "stream",
     "text": [
      "31it [03:08,  6.74s/it]"
     ]
    },
    {
     "name": "stdout",
     "output_type": "stream",
     "text": [
      "f7fab979-b71c-486b-8e89-818588598ab1\n"
     ]
    },
    {
     "name": "stderr",
     "output_type": "stream",
     "text": [
      "73it [08:17,  4.89s/it]"
     ]
    },
    {
     "name": "stdout",
     "output_type": "stream",
     "text": [
      "8f14d554-c335-4801-ba7e-37eee30ffb30\n"
     ]
    },
    {
     "name": "stderr",
     "output_type": "stream",
     "text": [
      "116it [13:02,  9.75s/it]"
     ]
    },
    {
     "name": "stdout",
     "output_type": "stream",
     "text": [
      "f590fe8d-9aa6-43e0-bf5b-dc404764e7e7\n"
     ]
    },
    {
     "name": "stderr",
     "output_type": "stream",
     "text": [
      "171it [21:13,  7.45s/it]\n"
     ]
    }
   ],
   "source": [
    "error_list_2 = []\n",
    "pubg = PUBG(api_key, shard = 'kakao')\n",
    "for i, match in tqdm(enumerate(match_list)):\n",
    "    try:\n",
    "        match_id = match['id']\n",
    "        current_match = pubg.match(match_id)\n",
    "        telemetry = current_match.get_telemetry()\n",
    "        map = telemetry.map_name()\n",
    "        startTime = pd.to_timedelta(telemetry.started()[telemetry.started().find('T')+1:-1])\n",
    "\n",
    "        ## get phase info\n",
    "        circles = telemetry.circle_positions()\n",
    "        whites = np.array(circles['white'])\n",
    "        phases = np.where(whites[1:, 4] - whites[:-1, 4] != 0)[0] + 1\n",
    "        \n",
    "        phase_time = []\n",
    "        for phase in phases:\n",
    "            phase_time.append(whites[phase][0])\n",
    "\n",
    "        ## get battle logs\n",
    "        attackLog = telemetry.filter_by('log_player_attack') # 교전 (공격한 경우) 데이터\n",
    "\n",
    "        attackData = [(match_id, map, log['attacker']['name'], log['attacker']['location']['x'], log['attacker']['location']['y'],\n",
    "               (pd.to_timedelta(log.timestamp[log.timestamp.find('T')+1:-1]) - startTime).total_seconds(),\n",
    "              log['attacker']['team_id'])\n",
    "                for log in attackLog if pd.to_timedelta(log.timestamp[log.timestamp.find('T')+1:-1]) > startTime]\n",
    "\n",
    "        if i == 0:\n",
    "            attack_df = pd.DataFrame(attackData, columns=['match_id', 'map', 'name', \n",
    "                                                           'loc_x', 'loc_y', 'time', 'team_id'])\n",
    "            attack_df['phase'] = attack_df['time'].map(get_phase)\n",
    "        else:\n",
    "            attackData = pd.DataFrame(attackData, columns=['match_id', 'map', 'name', \n",
    "                                                           'loc_x', 'loc_y', 'time', 'team_id'])\n",
    "            attackData['phase'] = attackData['time'].map(get_phase)\n",
    "            attack_df = pd.concat([attack_df, attackData], ignore_index = True)\n",
    "\n",
    "        # print(attack_df.shape, end = '\\r')\n",
    "    except:\n",
    "        print(match_id)\n",
    "        error_list_2.append(match_id)"
   ]
  },
  {
   "cell_type": "code",
   "execution_count": 80,
   "id": "5d764301-1e4d-4877-978e-5d5a29d26ed2",
   "metadata": {},
   "outputs": [
    {
     "name": "stdout",
     "output_type": "stream",
     "text": [
      "(477561, 8)\n"
     ]
    },
    {
     "data": {
      "text/html": [
       "<div>\n",
       "<style scoped>\n",
       "    .dataframe tbody tr th:only-of-type {\n",
       "        vertical-align: middle;\n",
       "    }\n",
       "\n",
       "    .dataframe tbody tr th {\n",
       "        vertical-align: top;\n",
       "    }\n",
       "\n",
       "    .dataframe thead th {\n",
       "        text-align: right;\n",
       "    }\n",
       "</style>\n",
       "<table border=\"1\" class=\"dataframe\">\n",
       "  <thead>\n",
       "    <tr style=\"text-align: right;\">\n",
       "      <th></th>\n",
       "      <th>match_id</th>\n",
       "      <th>map</th>\n",
       "      <th>name</th>\n",
       "      <th>loc_x</th>\n",
       "      <th>loc_y</th>\n",
       "      <th>time</th>\n",
       "      <th>team_id</th>\n",
       "      <th>phase</th>\n",
       "    </tr>\n",
       "  </thead>\n",
       "  <tbody>\n",
       "    <tr>\n",
       "      <th>0</th>\n",
       "      <td>8cc6c687-657b-48a0-8282-9e6b7e16d2ce</td>\n",
       "      <td>Camp Jackal</td>\n",
       "      <td>angkimozzieeeeee</td>\n",
       "      <td>126706.976562</td>\n",
       "      <td>138285.625</td>\n",
       "      <td>54.43548</td>\n",
       "      <td>1</td>\n",
       "      <td>1</td>\n",
       "    </tr>\n",
       "    <tr>\n",
       "      <th>1</th>\n",
       "      <td>8cc6c687-657b-48a0-8282-9e6b7e16d2ce</td>\n",
       "      <td>Camp Jackal</td>\n",
       "      <td>angkimozzieeeeee</td>\n",
       "      <td>126706.976562</td>\n",
       "      <td>138285.625</td>\n",
       "      <td>54.53548</td>\n",
       "      <td>1</td>\n",
       "      <td>1</td>\n",
       "    </tr>\n",
       "    <tr>\n",
       "      <th>2</th>\n",
       "      <td>8cc6c687-657b-48a0-8282-9e6b7e16d2ce</td>\n",
       "      <td>Camp Jackal</td>\n",
       "      <td>angkimozzieeeeee</td>\n",
       "      <td>126706.976562</td>\n",
       "      <td>138285.625</td>\n",
       "      <td>54.56848</td>\n",
       "      <td>1</td>\n",
       "      <td>1</td>\n",
       "    </tr>\n",
       "    <tr>\n",
       "      <th>3</th>\n",
       "      <td>8cc6c687-657b-48a0-8282-9e6b7e16d2ce</td>\n",
       "      <td>Camp Jackal</td>\n",
       "      <td>angkimozzieeeeee</td>\n",
       "      <td>126706.976562</td>\n",
       "      <td>138285.625</td>\n",
       "      <td>54.63548</td>\n",
       "      <td>1</td>\n",
       "      <td>1</td>\n",
       "    </tr>\n",
       "    <tr>\n",
       "      <th>4</th>\n",
       "      <td>8cc6c687-657b-48a0-8282-9e6b7e16d2ce</td>\n",
       "      <td>Camp Jackal</td>\n",
       "      <td>angkimozzieeeeee</td>\n",
       "      <td>126706.976562</td>\n",
       "      <td>138285.625</td>\n",
       "      <td>54.73648</td>\n",
       "      <td>1</td>\n",
       "      <td>1</td>\n",
       "    </tr>\n",
       "  </tbody>\n",
       "</table>\n",
       "</div>"
      ],
      "text/plain": [
       "                               match_id          map              name  \\\n",
       "0  8cc6c687-657b-48a0-8282-9e6b7e16d2ce  Camp Jackal  angkimozzieeeeee   \n",
       "1  8cc6c687-657b-48a0-8282-9e6b7e16d2ce  Camp Jackal  angkimozzieeeeee   \n",
       "2  8cc6c687-657b-48a0-8282-9e6b7e16d2ce  Camp Jackal  angkimozzieeeeee   \n",
       "3  8cc6c687-657b-48a0-8282-9e6b7e16d2ce  Camp Jackal  angkimozzieeeeee   \n",
       "4  8cc6c687-657b-48a0-8282-9e6b7e16d2ce  Camp Jackal  angkimozzieeeeee   \n",
       "\n",
       "           loc_x       loc_y      time team_id phase  \n",
       "0  126706.976562  138285.625  54.43548       1     1  \n",
       "1  126706.976562  138285.625  54.53548       1     1  \n",
       "2  126706.976562  138285.625  54.56848       1     1  \n",
       "3  126706.976562  138285.625  54.63548       1     1  \n",
       "4  126706.976562  138285.625  54.73648       1     1  "
      ]
     },
     "execution_count": 80,
     "metadata": {},
     "output_type": "execute_result"
    }
   ],
   "source": [
    "print(attack_df.shape)\n",
    "attack_df.head()"
   ]
  },
  {
   "cell_type": "code",
   "execution_count": 81,
   "id": "c3105807-315b-47cc-9fad-4ee5dc4698bb",
   "metadata": {},
   "outputs": [
    {
     "name": "stderr",
     "output_type": "stream",
     "text": [
      "1it [00:01,  1.38s/it]"
     ]
    },
    {
     "name": "stdout",
     "output_type": "stream",
     "text": [
      "8f14d554-c335-4801-ba7e-37eee30ffb30\n"
     ]
    },
    {
     "name": "stderr",
     "output_type": "stream",
     "text": [
      "3it [00:07,  2.42s/it]\n"
     ]
    }
   ],
   "source": [
    "pubg = PUBG(api_key, shard = 'kakao')\n",
    "for i, match_id in tqdm(enumerate(error_list_2)):\n",
    "    try:\n",
    "        current_match = pubg.match(match_id)\n",
    "        telemetry = current_match.get_telemetry()\n",
    "        map = telemetry.map_name()\n",
    "        startTime = pd.to_timedelta(telemetry.started()[telemetry.started().find('T')+1:-1])\n",
    "\n",
    "        ## get phase info\n",
    "        circles = telemetry.circle_positions()\n",
    "        whites = np.array(circles['white'])\n",
    "        phases = np.where(whites[1:, 4] - whites[:-1, 4] != 0)[0] + 1\n",
    "        \n",
    "        phase_time = []\n",
    "        for phase in phases:\n",
    "            phase_time.append(whites[phase][0])\n",
    "\n",
    "        ## get battle logs\n",
    "        attackLog = telemetry.filter_by('log_player_attack') # 교전 (공격한 경우) 데이터\n",
    "\n",
    "        attackData = [(match_id, map, log['attacker']['name'], log['attacker']['location']['x'], log['attacker']['location']['y'],\n",
    "               (pd.to_timedelta(log.timestamp[log.timestamp.find('T')+1:-1]) - startTime).total_seconds(),\n",
    "              log['attacker']['team_id'])\n",
    "                for log in attackLog if pd.to_timedelta(log.timestamp[log.timestamp.find('T')+1:-1]) > startTime]\n",
    "\n",
    "        attackData = pd.DataFrame(attackData, columns=['match_id', 'map', 'name', \n",
    "                                                       'loc_x', 'loc_y', 'time', 'team_id'])\n",
    "        attackData['phase'] = attackData['time'].map(get_phase)\n",
    "        attack_df = pd.concat([attack_df, attackData], ignore_index = True)\n",
    "    except:\n",
    "        print(match_id)"
   ]
  },
  {
   "cell_type": "code",
   "execution_count": 82,
   "id": "695f7de8-0632-46e8-8411-be74a174cda7",
   "metadata": {},
   "outputs": [
    {
     "name": "stdout",
     "output_type": "stream",
     "text": [
      "(479245, 8)\n"
     ]
    },
    {
     "data": {
      "text/html": [
       "<div>\n",
       "<style scoped>\n",
       "    .dataframe tbody tr th:only-of-type {\n",
       "        vertical-align: middle;\n",
       "    }\n",
       "\n",
       "    .dataframe tbody tr th {\n",
       "        vertical-align: top;\n",
       "    }\n",
       "\n",
       "    .dataframe thead th {\n",
       "        text-align: right;\n",
       "    }\n",
       "</style>\n",
       "<table border=\"1\" class=\"dataframe\">\n",
       "  <thead>\n",
       "    <tr style=\"text-align: right;\">\n",
       "      <th></th>\n",
       "      <th>match_id</th>\n",
       "      <th>map</th>\n",
       "      <th>name</th>\n",
       "      <th>loc_x</th>\n",
       "      <th>loc_y</th>\n",
       "      <th>time</th>\n",
       "      <th>team_id</th>\n",
       "      <th>phase</th>\n",
       "    </tr>\n",
       "  </thead>\n",
       "  <tbody>\n",
       "    <tr>\n",
       "      <th>0</th>\n",
       "      <td>8cc6c687-657b-48a0-8282-9e6b7e16d2ce</td>\n",
       "      <td>Camp Jackal</td>\n",
       "      <td>angkimozzieeeeee</td>\n",
       "      <td>126706.976562</td>\n",
       "      <td>138285.625</td>\n",
       "      <td>54.43548</td>\n",
       "      <td>1</td>\n",
       "      <td>1</td>\n",
       "    </tr>\n",
       "    <tr>\n",
       "      <th>1</th>\n",
       "      <td>8cc6c687-657b-48a0-8282-9e6b7e16d2ce</td>\n",
       "      <td>Camp Jackal</td>\n",
       "      <td>angkimozzieeeeee</td>\n",
       "      <td>126706.976562</td>\n",
       "      <td>138285.625</td>\n",
       "      <td>54.53548</td>\n",
       "      <td>1</td>\n",
       "      <td>1</td>\n",
       "    </tr>\n",
       "    <tr>\n",
       "      <th>2</th>\n",
       "      <td>8cc6c687-657b-48a0-8282-9e6b7e16d2ce</td>\n",
       "      <td>Camp Jackal</td>\n",
       "      <td>angkimozzieeeeee</td>\n",
       "      <td>126706.976562</td>\n",
       "      <td>138285.625</td>\n",
       "      <td>54.56848</td>\n",
       "      <td>1</td>\n",
       "      <td>1</td>\n",
       "    </tr>\n",
       "    <tr>\n",
       "      <th>3</th>\n",
       "      <td>8cc6c687-657b-48a0-8282-9e6b7e16d2ce</td>\n",
       "      <td>Camp Jackal</td>\n",
       "      <td>angkimozzieeeeee</td>\n",
       "      <td>126706.976562</td>\n",
       "      <td>138285.625</td>\n",
       "      <td>54.63548</td>\n",
       "      <td>1</td>\n",
       "      <td>1</td>\n",
       "    </tr>\n",
       "    <tr>\n",
       "      <th>4</th>\n",
       "      <td>8cc6c687-657b-48a0-8282-9e6b7e16d2ce</td>\n",
       "      <td>Camp Jackal</td>\n",
       "      <td>angkimozzieeeeee</td>\n",
       "      <td>126706.976562</td>\n",
       "      <td>138285.625</td>\n",
       "      <td>54.73648</td>\n",
       "      <td>1</td>\n",
       "      <td>1</td>\n",
       "    </tr>\n",
       "  </tbody>\n",
       "</table>\n",
       "</div>"
      ],
      "text/plain": [
       "                               match_id          map              name  \\\n",
       "0  8cc6c687-657b-48a0-8282-9e6b7e16d2ce  Camp Jackal  angkimozzieeeeee   \n",
       "1  8cc6c687-657b-48a0-8282-9e6b7e16d2ce  Camp Jackal  angkimozzieeeeee   \n",
       "2  8cc6c687-657b-48a0-8282-9e6b7e16d2ce  Camp Jackal  angkimozzieeeeee   \n",
       "3  8cc6c687-657b-48a0-8282-9e6b7e16d2ce  Camp Jackal  angkimozzieeeeee   \n",
       "4  8cc6c687-657b-48a0-8282-9e6b7e16d2ce  Camp Jackal  angkimozzieeeeee   \n",
       "\n",
       "           loc_x       loc_y      time team_id phase  \n",
       "0  126706.976562  138285.625  54.43548       1     1  \n",
       "1  126706.976562  138285.625  54.53548       1     1  \n",
       "2  126706.976562  138285.625  54.56848       1     1  \n",
       "3  126706.976562  138285.625  54.63548       1     1  \n",
       "4  126706.976562  138285.625  54.73648       1     1  "
      ]
     },
     "execution_count": 82,
     "metadata": {},
     "output_type": "execute_result"
    }
   ],
   "source": [
    "print(attack_df.shape)\n",
    "attack_df.head()"
   ]
  },
  {
   "cell_type": "markdown",
   "id": "8001f1d2-9dd1-48a5-a665-9d007d23d1e8",
   "metadata": {},
   "source": [
    "#### save the battle log data"
   ]
  },
  {
   "cell_type": "code",
   "execution_count": 83,
   "id": "c12bb740-b04c-45f2-9bd6-2ad9418f2a1d",
   "metadata": {},
   "outputs": [],
   "source": [
    "json_data = attack_df.to_json(orient='records')"
   ]
  },
  {
   "cell_type": "code",
   "execution_count": 84,
   "id": "28c6a5f5-bad2-45b0-9c73-8b4a3c516916",
   "metadata": {},
   "outputs": [
    {
     "data": {
      "text/plain": [
       "'data/2024-02-09/2024-02-09_btl_data.json'"
      ]
     },
     "execution_count": 84,
     "metadata": {},
     "output_type": "execute_result"
    }
   ],
   "source": [
    "json_file_name = f'data/{date}/{date}_btl_data.json'\n",
    "json_file_name"
   ]
  },
  {
   "cell_type": "code",
   "execution_count": 85,
   "id": "c9b7b8c1-c926-4d77-8452-8736d131f831",
   "metadata": {},
   "outputs": [],
   "source": [
    "with open(json_file_name, 'w') as f:\n",
    "    json.dump(json_data, f)"
   ]
  },
  {
   "cell_type": "code",
   "execution_count": null,
   "id": "84bcda2b-b48c-4ca4-ba40-ff7e86b945ab",
   "metadata": {},
   "outputs": [],
   "source": []
  },
  {
   "cell_type": "code",
   "execution_count": null,
   "id": "0633244c-5cb9-4bb5-8f29-6c2c515e6b34",
   "metadata": {},
   "outputs": [],
   "source": []
  },
  {
   "cell_type": "code",
   "execution_count": null,
   "id": "48268a8f-6d01-43ee-8322-70fdcc88effd",
   "metadata": {},
   "outputs": [],
   "source": []
  },
  {
   "cell_type": "code",
   "execution_count": null,
   "id": "e14e01b1-a7c5-4f01-9b95-89fd10dece2a",
   "metadata": {},
   "outputs": [],
   "source": []
  },
  {
   "cell_type": "code",
   "execution_count": null,
   "id": "5ee387f1-b07e-4f1d-9da5-c0e9e6f1f010",
   "metadata": {},
   "outputs": [],
   "source": []
  },
  {
   "cell_type": "code",
   "execution_count": null,
   "id": "d0bf06e5-e41f-4433-a934-025e61bb8d98",
   "metadata": {},
   "outputs": [],
   "source": []
  }
 ],
 "metadata": {
  "kernelspec": {
   "display_name": "Python 3 (ipykernel)",
   "language": "python",
   "name": "python3"
  },
  "language_info": {
   "codemirror_mode": {
    "name": "ipython",
    "version": 3
   },
   "file_extension": ".py",
   "mimetype": "text/x-python",
   "name": "python",
   "nbconvert_exporter": "python",
   "pygments_lexer": "ipython3",
   "version": "3.8.3"
  }
 },
 "nbformat": 4,
 "nbformat_minor": 5
}
