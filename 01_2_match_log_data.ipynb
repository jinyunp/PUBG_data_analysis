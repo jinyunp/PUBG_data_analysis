{
 "cells": [
  {
   "cell_type": "markdown",
   "id": "a07f4f5f-a558-4928-8597-6ac55433e634",
   "metadata": {},
   "source": [
    "PUBG telemetry events: https://documentation.pubg.com/en/telemetry-events.html\n",
    "<br>telemetry library github: https://github.com/crflynn/chicken-dinner/tree/master/chicken_dinner/models/telemetry"
   ]
  },
  {
   "cell_type": "markdown",
   "id": "65e7ea9c-b34e-4840-9873-436938f3f608",
   "metadata": {},
   "source": [
    "## Match log data\n",
    "import library"
   ]
  },
  {
   "cell_type": "code",
   "execution_count": 1,
   "id": "9fe0f57a-30af-4e65-8c3e-4e1e12af47a5",
   "metadata": {},
   "outputs": [],
   "source": [
    "## for calling dataset\n",
    "import requests\n",
    "\n",
    "## parsing dataset\n",
    "from chicken_dinner.pubgapi import PUBG\n",
    "from chicken_dinner.constants import COLORS\n",
    "from chicken_dinner.constants import map_dimensions\n",
    "\n",
    "import json\n",
    "import numpy as np\n",
    "import pandas as pd\n",
    "\n",
    "from tqdm import tqdm\n",
    "from datetime import datetime, timedelta\n",
    "import glob\n",
    "import config"
   ]
  },
  {
   "cell_type": "code",
   "execution_count": 2,
   "id": "257092e1-43f2-47eb-bf9f-698344e10d0c",
   "metadata": {},
   "outputs": [],
   "source": [
    "api_key = config.api_key\n",
    "headers = config.headers"
   ]
  },
  {
   "cell_type": "code",
   "execution_count": 3,
   "id": "a07f02e2-6da7-46c0-b7ba-63204d7f25ec",
   "metadata": {},
   "outputs": [
    {
     "data": {
      "text/plain": [
       "'2024-02-17'"
      ]
     },
     "execution_count": 3,
     "metadata": {},
     "output_type": "execute_result"
    }
   ],
   "source": [
    "today = datetime.now() - timedelta(1)\n",
    "date = today.strftime('%Y-%m-%d')\n",
    "date"
   ]
  },
  {
   "cell_type": "code",
   "execution_count": 4,
   "id": "372246cf-5b8a-47f8-b1af-1df44e2389b9",
   "metadata": {},
   "outputs": [
    {
     "data": {
      "text/plain": [
       "['data/2024-02-17/2024-02-17_smp_data.json']"
      ]
     },
     "execution_count": 4,
     "metadata": {},
     "output_type": "execute_result"
    }
   ],
   "source": [
    "flist = glob.glob(f'data/{date}/*_smp_data.json')\n",
    "flist"
   ]
  },
  {
   "cell_type": "code",
   "execution_count": 5,
   "id": "084941ce-2bad-4b15-ba20-58e34e4aeedd",
   "metadata": {},
   "outputs": [],
   "source": [
    "## save data into json file\n",
    "sample_file_path = flist[0]"
   ]
  },
  {
   "cell_type": "code",
   "execution_count": 6,
   "id": "eedc7431-ebb1-42a7-823a-fdb6ceb47b3a",
   "metadata": {},
   "outputs": [],
   "source": [
    "with open(sample_file_path, 'r') as f:\n",
    "    sample_data = json.load(f)"
   ]
  },
  {
   "cell_type": "code",
   "execution_count": 7,
   "id": "e44b5249-e27a-4cc7-9166-3666496b78bf",
   "metadata": {},
   "outputs": [
    {
     "data": {
      "text/plain": [
       "(317,\n",
       " [{'type': 'match', 'id': '762369d9-fd81-4b5a-9bd7-3aca6428a64b'},\n",
       "  {'type': 'match', 'id': '1c7336ad-ab2e-43f5-8a15-4fdfffbee81c'},\n",
       "  {'type': 'match', 'id': '023492b1-60b2-4c10-9a9c-3dde01168daa'},\n",
       "  {'type': 'match', 'id': '4b997684-47d7-4c9a-9173-dc3fd26d75fd'},\n",
       "  {'type': 'match', 'id': '2e6da0e6-effa-4331-864f-8ed4b8bad683'}])"
      ]
     },
     "execution_count": 7,
     "metadata": {},
     "output_type": "execute_result"
    }
   ],
   "source": [
    "match_list = sample_data['data']['relationships']['matches']['data']\n",
    "len(match_list), match_list[:5]"
   ]
  },
  {
   "cell_type": "markdown",
   "id": "998ec1e5-4a57-4ecc-832c-cb84d642153e",
   "metadata": {},
   "source": [
    "### Role death record data"
   ]
  },
  {
   "cell_type": "code",
   "execution_count": 8,
   "id": "ab837b19-e29e-48fd-aa5f-d750954b1653",
   "metadata": {},
   "outputs": [],
   "source": [
    "def timestamp_into_sec(t):\n",
    "    hrs = int(t.split('T')[-1].split(':')[0])\n",
    "    min = int(t.split('T')[-1].split(':')[1])\n",
    "    sec = int(t.split('T')[-1].split(':')[2][:2])\n",
    "    mili = int(t.split('T')[-1].split(':')[2][3:-1])\n",
    "    if len(str(mili)) == 3:\n",
    "        ans = sec + min*60 + mili/1000 + hrs*60*60\n",
    "    else:\n",
    "        ans = sec + min*60 + mili/(10**len(str(mili))) + hrs*60*60\n",
    "    return ans"
   ]
  },
  {
   "cell_type": "code",
   "execution_count": 9,
   "id": "839534b6-d828-4b60-88c8-533d21b191ef",
   "metadata": {},
   "outputs": [
    {
     "data": {
      "text/html": [
       "<div>\n",
       "<style scoped>\n",
       "    .dataframe tbody tr th:only-of-type {\n",
       "        vertical-align: middle;\n",
       "    }\n",
       "\n",
       "    .dataframe tbody tr th {\n",
       "        vertical-align: top;\n",
       "    }\n",
       "\n",
       "    .dataframe thead th {\n",
       "        text-align: right;\n",
       "    }\n",
       "</style>\n",
       "<table border=\"1\" class=\"dataframe\">\n",
       "  <thead>\n",
       "    <tr style=\"text-align: right;\">\n",
       "      <th></th>\n",
       "      <th>killer_name</th>\n",
       "      <th>killer_id</th>\n",
       "      <th>killer_loc_x</th>\n",
       "      <th>killer_loc_y</th>\n",
       "      <th>victim_name</th>\n",
       "      <th>victim_id</th>\n",
       "      <th>victim_loc_x</th>\n",
       "      <th>victim_loc_y</th>\n",
       "      <th>killed_by</th>\n",
       "      <th>map</th>\n",
       "      <th>match_id</th>\n",
       "      <th>time</th>\n",
       "      <th>time_pass</th>\n",
       "      <th>phase</th>\n",
       "    </tr>\n",
       "  </thead>\n",
       "  <tbody>\n",
       "  </tbody>\n",
       "</table>\n",
       "</div>"
      ],
      "text/plain": [
       "Empty DataFrame\n",
       "Columns: [killer_name, killer_id, killer_loc_x, killer_loc_y, victim_name, victim_id, victim_loc_x, victim_loc_y, killed_by, map, match_id, time, time_pass, phase]\n",
       "Index: []"
      ]
     },
     "execution_count": 9,
     "metadata": {},
     "output_type": "execute_result"
    }
   ],
   "source": [
    "features_D = ['killer_name', 'killer_id', 'killer_loc_x','killer_loc_y',\n",
    "              'victim_name', 'victim_id', 'victim_loc_x', 'victim_loc_y',\n",
    "              'killed_by', 'map', 'match_id', 'time', 'time_pass', 'phase']\n",
    "log_df = pd.DataFrame(columns = features_D)\n",
    "log_df"
   ]
  },
  {
   "cell_type": "code",
   "execution_count": 10,
   "id": "d56c808d-4583-49f5-91b9-4d7cce519ec3",
   "metadata": {},
   "outputs": [],
   "source": [
    "pubg = PUBG(api_key, shard = 'kakao')"
   ]
  },
  {
   "cell_type": "code",
   "execution_count": 11,
   "id": "c6011d50-4cac-4bcf-80ee-2062d974454f",
   "metadata": {},
   "outputs": [
    {
     "name": "stderr",
     "output_type": "stream",
     "text": [
      "317it [30:15,  5.73s/it]\n"
     ]
    }
   ],
   "source": [
    "error_list = []\n",
    "for i, match in tqdm(enumerate(match_list)):\n",
    "    try:\n",
    "        match_id = match['id']\n",
    "        current_match = pubg.match(match_id)\n",
    "        telemetry = current_match.get_telemetry()\n",
    "        st = telemetry.started()\n",
    "        \n",
    "        ## get phase info\n",
    "        circles = telemetry.circle_positions()\n",
    "        whites = np.array(circles['white'])\n",
    "        phases = np.where(whites[1:, 4] - whites[:-1, 4] != 0)[0] + 1\n",
    "        \n",
    "        phase_time = []\n",
    "        for phase in phases:\n",
    "            phase_time.append(whites[phase][0])\n",
    "        \n",
    "        ## get data    \n",
    "        map = telemetry.map_name()\n",
    "        kill_log = telemetry.filter_by(event_type='log_player_kill_v2')\n",
    "    \n",
    "        for j, log in enumerate(kill_log):\n",
    "            try: \n",
    "                kname = log['killer']['name']\n",
    "                kid = log['killer']['account_id']\n",
    "                kloc = [log['killer']['location']['x'], log['killer']['location']['y']]\n",
    "                vname = log['victim']['name']\n",
    "                vid = log['victim']['account_id']\n",
    "                vloc = [log['victim']['location']['x'], log['victim']['location']['y']]\n",
    "                weap = log['d_bno_damage_info']['damage_causer_name']\n",
    "                time = log.timestamp\n",
    "                time_pass = timestamp_into_sec(time) - timestamp_into_sec(st)\n",
    "                phase = sum([time_pass <= x for x in phase_time])\n",
    "        \n",
    "                log_df.loc[len(log_df)] = [kname, kid, kloc[0], kloc[1],\n",
    "                                           vname, vid, vloc[0], vloc[1],\n",
    "                                           weap, map, match_id, time, time_pass, phase]\n",
    "            except:\n",
    "                continue\n",
    "    except:\n",
    "        error_list.append(match_id)\n",
    "        print(match_id)\n",
    "        continue"
   ]
  },
  {
   "cell_type": "code",
   "execution_count": 12,
   "id": "8510ab96-2d55-4f66-9b22-c87673bce8d3",
   "metadata": {},
   "outputs": [
    {
     "data": {
      "text/plain": [
       "((19676, 14),\n",
       "     killer_name                                 killer_id  killer_loc_x  \\\n",
       " 0    AI-___-Bot  account.84f938d75eba4fc3b62368a19011db77  270148.09375   \n",
       " 1      XVII_V17  account.4bdab5cdd7c74ed28ef2ccb8eb18c994  364360.46875   \n",
       " 2      gjdudtod  account.b8efac09d9bc428ba91256ede8873c36  495162.62500   \n",
       " 3      M_ARIN_E  account.509614ee71864be0979a7a3116f9e034  273302.25000   \n",
       " 4  fluffy_punch  account.2f5bb347c84b477cad44a53f69d734f3  491784.09375   \n",
       " \n",
       "    killer_loc_y  victim_name                                 victim_id  \\\n",
       " 0   426676.6250  01088076393  account.f2d2fe08fd214178ad6447dc098190e9   \n",
       " 1   538774.8750    B_LostArk  account.c4d78e8d2bdb45debc9d6fb941afccf2   \n",
       " 2   403831.3750      H-0508Y  account.29861a08455f40029d8c45d35d14c361   \n",
       " 3   445791.1875  ponkeycandy  account.d3dd22b5b19148219c1e752384de0550   \n",
       " 4   398321.3125      G-0508E  account.5c9ce5f5418b4baab45e360d6daba021   \n",
       " \n",
       "    victim_loc_x  victim_loc_y         killed_by      map  \\\n",
       " 0  269077.03125  425554.31250       WeapM16A4_C  Vikendi   \n",
       " 1  365190.71875  538075.12500         WeapAUG_C  Vikendi   \n",
       " 2  495606.96875  403759.71875  WeapBerreta686_C  Vikendi   \n",
       " 3  273061.90625  445517.03125        WeapM249_C  Vikendi   \n",
       " 4  491985.09375  402450.68750       WeapFNFal_C  Vikendi   \n",
       " \n",
       "                                match_id                      time  time_pass  \\\n",
       " 0  762369d9-fd81-4b5a-9bd7-3aca6428a64b  2024-02-16T23:42:27.635Z   95.49546   \n",
       " 1  762369d9-fd81-4b5a-9bd7-3aca6428a64b  2024-02-16T23:42:41.177Z  109.03746   \n",
       " 2  762369d9-fd81-4b5a-9bd7-3aca6428a64b  2024-02-16T23:43:08.937Z  136.79746   \n",
       " 3  762369d9-fd81-4b5a-9bd7-3aca6428a64b  2024-02-16T23:43:17.710Z  145.57046   \n",
       " 4  762369d9-fd81-4b5a-9bd7-3aca6428a64b  2024-02-16T23:43:20.517Z  148.37746   \n",
       " \n",
       "    phase  \n",
       " 0      8  \n",
       " 1      8  \n",
       " 2      8  \n",
       " 3      8  \n",
       " 4      8  )"
      ]
     },
     "execution_count": 12,
     "metadata": {},
     "output_type": "execute_result"
    }
   ],
   "source": [
    "log_df.shape, log_df.head()"
   ]
  },
  {
   "cell_type": "code",
   "execution_count": 13,
   "id": "9b55c433-1387-49f8-bde2-f45c2b5c415c",
   "metadata": {},
   "outputs": [
    {
     "data": {
      "text/html": [
       "<div>\n",
       "<style scoped>\n",
       "    .dataframe tbody tr th:only-of-type {\n",
       "        vertical-align: middle;\n",
       "    }\n",
       "\n",
       "    .dataframe tbody tr th {\n",
       "        vertical-align: top;\n",
       "    }\n",
       "\n",
       "    .dataframe thead th {\n",
       "        text-align: right;\n",
       "    }\n",
       "</style>\n",
       "<table border=\"1\" class=\"dataframe\">\n",
       "  <thead>\n",
       "    <tr style=\"text-align: right;\">\n",
       "      <th></th>\n",
       "      <th>killer_name</th>\n",
       "      <th>killer_id</th>\n",
       "      <th>killer_loc_x</th>\n",
       "      <th>killer_loc_y</th>\n",
       "      <th>victim_name</th>\n",
       "      <th>victim_id</th>\n",
       "      <th>victim_loc_x</th>\n",
       "      <th>victim_loc_y</th>\n",
       "      <th>killed_by</th>\n",
       "      <th>map</th>\n",
       "      <th>match_id</th>\n",
       "      <th>time</th>\n",
       "      <th>time_pass</th>\n",
       "      <th>phase</th>\n",
       "    </tr>\n",
       "  </thead>\n",
       "  <tbody>\n",
       "    <tr>\n",
       "      <th>0</th>\n",
       "      <td>AI-___-Bot</td>\n",
       "      <td>account.84f938d75eba4fc3b62368a19011db77</td>\n",
       "      <td>270148.09375</td>\n",
       "      <td>426676.6250</td>\n",
       "      <td>01088076393</td>\n",
       "      <td>account.f2d2fe08fd214178ad6447dc098190e9</td>\n",
       "      <td>269077.03125</td>\n",
       "      <td>425554.31250</td>\n",
       "      <td>WeapM16A4_C</td>\n",
       "      <td>Vikendi</td>\n",
       "      <td>762369d9-fd81-4b5a-9bd7-3aca6428a64b</td>\n",
       "      <td>2024-02-16T23:42:27.635Z</td>\n",
       "      <td>95.49546</td>\n",
       "      <td>8</td>\n",
       "    </tr>\n",
       "    <tr>\n",
       "      <th>1</th>\n",
       "      <td>XVII_V17</td>\n",
       "      <td>account.4bdab5cdd7c74ed28ef2ccb8eb18c994</td>\n",
       "      <td>364360.46875</td>\n",
       "      <td>538774.8750</td>\n",
       "      <td>B_LostArk</td>\n",
       "      <td>account.c4d78e8d2bdb45debc9d6fb941afccf2</td>\n",
       "      <td>365190.71875</td>\n",
       "      <td>538075.12500</td>\n",
       "      <td>WeapAUG_C</td>\n",
       "      <td>Vikendi</td>\n",
       "      <td>762369d9-fd81-4b5a-9bd7-3aca6428a64b</td>\n",
       "      <td>2024-02-16T23:42:41.177Z</td>\n",
       "      <td>109.03746</td>\n",
       "      <td>8</td>\n",
       "    </tr>\n",
       "    <tr>\n",
       "      <th>2</th>\n",
       "      <td>gjdudtod</td>\n",
       "      <td>account.b8efac09d9bc428ba91256ede8873c36</td>\n",
       "      <td>495162.62500</td>\n",
       "      <td>403831.3750</td>\n",
       "      <td>H-0508Y</td>\n",
       "      <td>account.29861a08455f40029d8c45d35d14c361</td>\n",
       "      <td>495606.96875</td>\n",
       "      <td>403759.71875</td>\n",
       "      <td>WeapBerreta686_C</td>\n",
       "      <td>Vikendi</td>\n",
       "      <td>762369d9-fd81-4b5a-9bd7-3aca6428a64b</td>\n",
       "      <td>2024-02-16T23:43:08.937Z</td>\n",
       "      <td>136.79746</td>\n",
       "      <td>8</td>\n",
       "    </tr>\n",
       "    <tr>\n",
       "      <th>3</th>\n",
       "      <td>M_ARIN_E</td>\n",
       "      <td>account.509614ee71864be0979a7a3116f9e034</td>\n",
       "      <td>273302.25000</td>\n",
       "      <td>445791.1875</td>\n",
       "      <td>ponkeycandy</td>\n",
       "      <td>account.d3dd22b5b19148219c1e752384de0550</td>\n",
       "      <td>273061.90625</td>\n",
       "      <td>445517.03125</td>\n",
       "      <td>WeapM249_C</td>\n",
       "      <td>Vikendi</td>\n",
       "      <td>762369d9-fd81-4b5a-9bd7-3aca6428a64b</td>\n",
       "      <td>2024-02-16T23:43:17.710Z</td>\n",
       "      <td>145.57046</td>\n",
       "      <td>8</td>\n",
       "    </tr>\n",
       "    <tr>\n",
       "      <th>4</th>\n",
       "      <td>fluffy_punch</td>\n",
       "      <td>account.2f5bb347c84b477cad44a53f69d734f3</td>\n",
       "      <td>491784.09375</td>\n",
       "      <td>398321.3125</td>\n",
       "      <td>G-0508E</td>\n",
       "      <td>account.5c9ce5f5418b4baab45e360d6daba021</td>\n",
       "      <td>491985.09375</td>\n",
       "      <td>402450.68750</td>\n",
       "      <td>WeapFNFal_C</td>\n",
       "      <td>Vikendi</td>\n",
       "      <td>762369d9-fd81-4b5a-9bd7-3aca6428a64b</td>\n",
       "      <td>2024-02-16T23:43:20.517Z</td>\n",
       "      <td>148.37746</td>\n",
       "      <td>8</td>\n",
       "    </tr>\n",
       "  </tbody>\n",
       "</table>\n",
       "</div>"
      ],
      "text/plain": [
       "    killer_name                                 killer_id  killer_loc_x  \\\n",
       "0    AI-___-Bot  account.84f938d75eba4fc3b62368a19011db77  270148.09375   \n",
       "1      XVII_V17  account.4bdab5cdd7c74ed28ef2ccb8eb18c994  364360.46875   \n",
       "2      gjdudtod  account.b8efac09d9bc428ba91256ede8873c36  495162.62500   \n",
       "3      M_ARIN_E  account.509614ee71864be0979a7a3116f9e034  273302.25000   \n",
       "4  fluffy_punch  account.2f5bb347c84b477cad44a53f69d734f3  491784.09375   \n",
       "\n",
       "   killer_loc_y  victim_name                                 victim_id  \\\n",
       "0   426676.6250  01088076393  account.f2d2fe08fd214178ad6447dc098190e9   \n",
       "1   538774.8750    B_LostArk  account.c4d78e8d2bdb45debc9d6fb941afccf2   \n",
       "2   403831.3750      H-0508Y  account.29861a08455f40029d8c45d35d14c361   \n",
       "3   445791.1875  ponkeycandy  account.d3dd22b5b19148219c1e752384de0550   \n",
       "4   398321.3125      G-0508E  account.5c9ce5f5418b4baab45e360d6daba021   \n",
       "\n",
       "   victim_loc_x  victim_loc_y         killed_by      map  \\\n",
       "0  269077.03125  425554.31250       WeapM16A4_C  Vikendi   \n",
       "1  365190.71875  538075.12500         WeapAUG_C  Vikendi   \n",
       "2  495606.96875  403759.71875  WeapBerreta686_C  Vikendi   \n",
       "3  273061.90625  445517.03125        WeapM249_C  Vikendi   \n",
       "4  491985.09375  402450.68750       WeapFNFal_C  Vikendi   \n",
       "\n",
       "                               match_id                      time  time_pass  \\\n",
       "0  762369d9-fd81-4b5a-9bd7-3aca6428a64b  2024-02-16T23:42:27.635Z   95.49546   \n",
       "1  762369d9-fd81-4b5a-9bd7-3aca6428a64b  2024-02-16T23:42:41.177Z  109.03746   \n",
       "2  762369d9-fd81-4b5a-9bd7-3aca6428a64b  2024-02-16T23:43:08.937Z  136.79746   \n",
       "3  762369d9-fd81-4b5a-9bd7-3aca6428a64b  2024-02-16T23:43:17.710Z  145.57046   \n",
       "4  762369d9-fd81-4b5a-9bd7-3aca6428a64b  2024-02-16T23:43:20.517Z  148.37746   \n",
       "\n",
       "   phase  \n",
       "0      8  \n",
       "1      8  \n",
       "2      8  \n",
       "3      8  \n",
       "4      8  "
      ]
     },
     "execution_count": 13,
     "metadata": {},
     "output_type": "execute_result"
    }
   ],
   "source": [
    "log_df.head()"
   ]
  },
  {
   "cell_type": "markdown",
   "id": "7ef3a91d-ad40-4058-aa2d-c619762b09a0",
   "metadata": {},
   "source": [
    "### save the match log data"
   ]
  },
  {
   "cell_type": "code",
   "execution_count": null,
   "id": "dcfbb84d-5550-40d4-aa02-3e4ec79cec70",
   "metadata": {
    "scrolled": true
   },
   "outputs": [],
   "source": [
    "json_data = log_df.to_json(orient='records')\n",
    "len(json_data) #json_data"
   ]
  },
  {
   "cell_type": "code",
   "execution_count": 15,
   "id": "de843209-8c43-40a7-a7b4-0534d5f64360",
   "metadata": {},
   "outputs": [
    {
     "data": {
      "text/plain": [
       "'data/2024-02-17/2024-02-17_log_data.json'"
      ]
     },
     "execution_count": 15,
     "metadata": {},
     "output_type": "execute_result"
    }
   ],
   "source": [
    "json_file_name = f'data/{date}/{date}_log_data.json'\n",
    "json_file_name"
   ]
  },
  {
   "cell_type": "code",
   "execution_count": 16,
   "id": "f78dded0-496c-4c0a-a7df-08dfa6540287",
   "metadata": {},
   "outputs": [],
   "source": [
    "with open(json_file_name, 'w') as f:\n",
    "    json.dump(json_data, f)"
   ]
  },
  {
   "cell_type": "code",
   "execution_count": null,
   "id": "d12ee8e2-d4f0-4840-9fe5-0d59b3ded639",
   "metadata": {},
   "outputs": [],
   "source": []
  },
  {
   "cell_type": "code",
   "execution_count": null,
   "id": "e806fabc-ad16-4b4d-a63f-89590ba3256f",
   "metadata": {},
   "outputs": [],
   "source": []
  },
  {
   "cell_type": "code",
   "execution_count": null,
   "id": "210a64fe-fb3c-4a47-9493-c008c72a16e1",
   "metadata": {},
   "outputs": [],
   "source": []
  },
  {
   "cell_type": "code",
   "execution_count": null,
   "id": "dbb22181-5ee2-42b5-94b8-2ca6cfa8cd82",
   "metadata": {},
   "outputs": [],
   "source": []
  },
  {
   "cell_type": "code",
   "execution_count": null,
   "id": "b52aae19-f1bb-44ad-9dc0-84d4eac8085d",
   "metadata": {},
   "outputs": [],
   "source": []
  }
 ],
 "metadata": {
  "kernelspec": {
   "display_name": "Python 3 (ipykernel)",
   "language": "python",
   "name": "python3"
  },
  "language_info": {
   "codemirror_mode": {
    "name": "ipython",
    "version": 3
   },
   "file_extension": ".py",
   "mimetype": "text/x-python",
   "name": "python",
   "nbconvert_exporter": "python",
   "pygments_lexer": "ipython3",
   "version": "3.8.3"
  }
 },
 "nbformat": 4,
 "nbformat_minor": 5
}
